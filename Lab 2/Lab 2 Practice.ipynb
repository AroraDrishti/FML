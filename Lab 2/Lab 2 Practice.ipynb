{
 "cells": [
  {
   "cell_type": "markdown",
   "id": "c164b383",
   "metadata": {},
   "source": [
    "# LAB 2"
   ]
  },
  {
   "cell_type": "code",
   "execution_count": 1,
   "id": "fc71932b",
   "metadata": {},
   "outputs": [],
   "source": [
    "import numpy as np\n",
    "import pandas as pd\n",
    "import matplotlib.pyplot as plt"
   ]
  },
  {
   "cell_type": "code",
   "execution_count": 2,
   "id": "6c3e5aa0",
   "metadata": {},
   "outputs": [],
   "source": [
    "# 1. Write the command to read this data in the dataframe.\n",
    "df = pd.read_csv('RSData.csv', na_values=['NA', 'n/a', 'na', 'NaN', 'nil'])"
   ]
  },
  {
   "cell_type": "code",
   "execution_count": 3,
   "id": "d0187536",
   "metadata": {},
   "outputs": [
    {
     "data": {
      "text/html": [
       "<div>\n",
       "<style scoped>\n",
       "    .dataframe tbody tr th:only-of-type {\n",
       "        vertical-align: middle;\n",
       "    }\n",
       "\n",
       "    .dataframe tbody tr th {\n",
       "        vertical-align: top;\n",
       "    }\n",
       "\n",
       "    .dataframe thead th {\n",
       "        text-align: right;\n",
       "    }\n",
       "</style>\n",
       "<table border=\"1\" class=\"dataframe\">\n",
       "  <thead>\n",
       "    <tr style=\"text-align: right;\">\n",
       "      <th></th>\n",
       "      <th>propertyid</th>\n",
       "      <th>stno</th>\n",
       "      <th>stname</th>\n",
       "      <th>owneroccupied</th>\n",
       "      <th>numbedrooms</th>\n",
       "      <th>numbathrooms</th>\n",
       "      <th>areasqft</th>\n",
       "    </tr>\n",
       "  </thead>\n",
       "  <tbody>\n",
       "    <tr>\n",
       "      <th>0</th>\n",
       "      <td>100001000.0</td>\n",
       "      <td>10.0</td>\n",
       "      <td>Kranti Road</td>\n",
       "      <td>Y</td>\n",
       "      <td>3.0</td>\n",
       "      <td>1</td>\n",
       "      <td>1000</td>\n",
       "    </tr>\n",
       "    <tr>\n",
       "      <th>1</th>\n",
       "      <td>100002000.0</td>\n",
       "      <td>17.0</td>\n",
       "      <td>Bhagat Singh Road</td>\n",
       "      <td>N</td>\n",
       "      <td>3.0</td>\n",
       "      <td>1.5</td>\n",
       "      <td>nil</td>\n",
       "    </tr>\n",
       "    <tr>\n",
       "      <th>2</th>\n",
       "      <td>100003000.0</td>\n",
       "      <td>NaN</td>\n",
       "      <td>Bhagat Singh Road</td>\n",
       "      <td>N</td>\n",
       "      <td>NaN</td>\n",
       "      <td>1</td>\n",
       "      <td>850</td>\n",
       "    </tr>\n",
       "    <tr>\n",
       "      <th>3</th>\n",
       "      <td>100004000.0</td>\n",
       "      <td>20.0</td>\n",
       "      <td>Azad Marg</td>\n",
       "      <td>12</td>\n",
       "      <td>1.0</td>\n",
       "      <td>NaN</td>\n",
       "      <td>700</td>\n",
       "    </tr>\n",
       "    <tr>\n",
       "      <th>4</th>\n",
       "      <td>NaN</td>\n",
       "      <td>23.0</td>\n",
       "      <td>Azad Marg</td>\n",
       "      <td>Y</td>\n",
       "      <td>3.0</td>\n",
       "      <td>2</td>\n",
       "      <td>1600</td>\n",
       "    </tr>\n",
       "  </tbody>\n",
       "</table>\n",
       "</div>"
      ],
      "text/plain": [
       "    propertyid  stno             stname owneroccupied  numbedrooms  \\\n",
       "0  100001000.0  10.0        Kranti Road             Y          3.0   \n",
       "1  100002000.0  17.0  Bhagat Singh Road             N          3.0   \n",
       "2  100003000.0   NaN  Bhagat Singh Road             N          NaN   \n",
       "3  100004000.0  20.0          Azad Marg            12          1.0   \n",
       "4          NaN  23.0          Azad Marg             Y          3.0   \n",
       "\n",
       "  numbathrooms areasqft  \n",
       "0            1     1000  \n",
       "1          1.5     nil   \n",
       "2            1      850  \n",
       "3          NaN      700  \n",
       "4            2     1600  "
      ]
     },
     "execution_count": 3,
     "metadata": {},
     "output_type": "execute_result"
    }
   ],
   "source": [
    "df.head()"
   ]
  },
  {
   "cell_type": "code",
   "execution_count": 4,
   "id": "8ca5f4a2",
   "metadata": {},
   "outputs": [
    {
     "name": "stdout",
     "output_type": "stream",
     "text": [
      "Number of rows, columns: (9, 7)\n"
     ]
    }
   ],
   "source": [
    "# 2. List number of rows and columns in this dataset \n",
    "print('Number of rows, columns: ' + str(df.shape))"
   ]
  },
  {
   "cell_type": "code",
   "execution_count": 5,
   "id": "5fb947b1",
   "metadata": {},
   "outputs": [
    {
     "data": {
      "text/plain": [
       "propertyid       1\n",
       "stno             2\n",
       "stname           0\n",
       "owneroccupied    1\n",
       "numbedrooms      3\n",
       "numbathrooms     1\n",
       "areasqft         1\n",
       "dtype: int64"
      ]
     },
     "execution_count": 5,
     "metadata": {},
     "output_type": "execute_result"
    }
   ],
   "source": [
    "# 3. Check if there is any missing value in this entire dataset? \n",
    "df.isnull().sum()"
   ]
  },
  {
   "cell_type": "code",
   "execution_count": 6,
   "id": "7a36ecd3",
   "metadata": {},
   "outputs": [
    {
     "name": "stdout",
     "output_type": "stream",
     "text": [
      "Columns without missing value\n",
      "stname\n"
     ]
    }
   ],
   "source": [
    "# 4. Which column(s) does not have any missing value? \n",
    "print('Columns without missing value')\n",
    "for cols in df.columns:\n",
    "    if df[cols].isnull().sum() == 0:\n",
    "        print(cols)"
   ]
  },
  {
   "cell_type": "code",
   "execution_count": 7,
   "id": "4c5d00d8",
   "metadata": {},
   "outputs": [
    {
     "name": "stdout",
     "output_type": "stream",
     "text": [
      "Column having maximum number of missing values: \n"
     ]
    },
    {
     "data": {
      "text/plain": [
       "'numbedrooms'"
      ]
     },
     "execution_count": 7,
     "metadata": {},
     "output_type": "execute_result"
    }
   ],
   "source": [
    "# 5. Which columns have maximum number of missing values? \n",
    "print('Column having maximum number of missing values: ')\n",
    "df.count().idxmin()"
   ]
  },
  {
   "cell_type": "code",
   "execution_count": 8,
   "id": "545039a1",
   "metadata": {},
   "outputs": [
    {
     "name": "stdout",
     "output_type": "stream",
     "text": [
      "Rows that does not have any missing value(s): 2\n"
     ]
    }
   ],
   "source": [
    "# 6. There are how many rows, which does not have any missing value(s)?\n",
    "rowswithna = sum([True for idx,row in df.iterrows() if any(row.isnull())])\n",
    "rowswithoutna = len(df) - rowswithna\n",
    "print('Rows that does not have any missing value(s): ' + str(rowswithoutna))"
   ]
  },
  {
   "cell_type": "code",
   "execution_count": 9,
   "id": "69abead4",
   "metadata": {},
   "outputs": [
    {
     "data": {
      "text/html": [
       "<div>\n",
       "<style scoped>\n",
       "    .dataframe tbody tr th:only-of-type {\n",
       "        vertical-align: middle;\n",
       "    }\n",
       "\n",
       "    .dataframe tbody tr th {\n",
       "        vertical-align: top;\n",
       "    }\n",
       "\n",
       "    .dataframe thead th {\n",
       "        text-align: right;\n",
       "    }\n",
       "</style>\n",
       "<table border=\"1\" class=\"dataframe\">\n",
       "  <thead>\n",
       "    <tr style=\"text-align: right;\">\n",
       "      <th></th>\n",
       "      <th>propertyid</th>\n",
       "      <th>stno</th>\n",
       "      <th>stname</th>\n",
       "      <th>owneroccupied</th>\n",
       "      <th>numbedrooms</th>\n",
       "      <th>numbathrooms</th>\n",
       "      <th>areasqft</th>\n",
       "    </tr>\n",
       "  </thead>\n",
       "  <tbody>\n",
       "    <tr>\n",
       "      <th>4</th>\n",
       "      <td>NaN</td>\n",
       "      <td>23.0</td>\n",
       "      <td>Azad Marg</td>\n",
       "      <td>Y</td>\n",
       "      <td>3.0</td>\n",
       "      <td>2</td>\n",
       "      <td>1600</td>\n",
       "    </tr>\n",
       "    <tr>\n",
       "      <th>5</th>\n",
       "      <td>100006000.0</td>\n",
       "      <td>20.0</td>\n",
       "      <td>Azad Marg</td>\n",
       "      <td>Y</td>\n",
       "      <td>NaN</td>\n",
       "      <td>1</td>\n",
       "      <td>800</td>\n",
       "    </tr>\n",
       "    <tr>\n",
       "      <th>6</th>\n",
       "      <td>100007000.0</td>\n",
       "      <td>NaN</td>\n",
       "      <td>Shivaji Road</td>\n",
       "      <td>NaN</td>\n",
       "      <td>2.0</td>\n",
       "      <td>Surya</td>\n",
       "      <td>950</td>\n",
       "    </tr>\n",
       "    <tr>\n",
       "      <th>7</th>\n",
       "      <td>100008000.0</td>\n",
       "      <td>13.0</td>\n",
       "      <td>Netaji Marg</td>\n",
       "      <td>Y</td>\n",
       "      <td>1.0</td>\n",
       "      <td>1</td>\n",
       "      <td>900</td>\n",
       "    </tr>\n",
       "    <tr>\n",
       "      <th>8</th>\n",
       "      <td>100009000.0</td>\n",
       "      <td>15.0</td>\n",
       "      <td>Netaji Marg</td>\n",
       "      <td>Y</td>\n",
       "      <td>NaN</td>\n",
       "      <td>2</td>\n",
       "      <td>1800</td>\n",
       "    </tr>\n",
       "  </tbody>\n",
       "</table>\n",
       "</div>"
      ],
      "text/plain": [
       "    propertyid  stno        stname owneroccupied  numbedrooms numbathrooms  \\\n",
       "4          NaN  23.0     Azad Marg             Y          3.0            2   \n",
       "5  100006000.0  20.0     Azad Marg             Y          NaN            1   \n",
       "6  100007000.0   NaN  Shivaji Road           NaN          2.0        Surya   \n",
       "7  100008000.0  13.0   Netaji Marg             Y          1.0            1   \n",
       "8  100009000.0  15.0   Netaji Marg             Y          NaN            2   \n",
       "\n",
       "  areasqft  \n",
       "4     1600  \n",
       "5      800  \n",
       "6      950  \n",
       "7      900  \n",
       "8     1800  "
      ]
     },
     "execution_count": 9,
     "metadata": {},
     "output_type": "execute_result"
    }
   ],
   "source": [
    "# 7. If there is any missing value in the “areasqft” replace it with 900 \n",
    "df['areasqft'] = df['areasqft'].fillna(900)\n",
    "df.tail()"
   ]
  },
  {
   "cell_type": "code",
   "execution_count": 10,
   "id": "989abd53",
   "metadata": {},
   "outputs": [
    {
     "name": "stderr",
     "output_type": "stream",
     "text": [
      "C:\\Users\\HP\\anaconda3\\lib\\site-packages\\pandas\\core\\indexing.py:1637: SettingWithCopyWarning: \n",
      "A value is trying to be set on a copy of a slice from a DataFrame\n",
      "\n",
      "See the caveats in the documentation: https://pandas.pydata.org/pandas-docs/stable/user_guide/indexing.html#returning-a-view-versus-a-copy\n",
      "  self._setitem_single_block(indexer, value, name)\n"
     ]
    },
    {
     "data": {
      "text/html": [
       "<div>\n",
       "<style scoped>\n",
       "    .dataframe tbody tr th:only-of-type {\n",
       "        vertical-align: middle;\n",
       "    }\n",
       "\n",
       "    .dataframe tbody tr th {\n",
       "        vertical-align: top;\n",
       "    }\n",
       "\n",
       "    .dataframe thead th {\n",
       "        text-align: right;\n",
       "    }\n",
       "</style>\n",
       "<table border=\"1\" class=\"dataframe\">\n",
       "  <thead>\n",
       "    <tr style=\"text-align: right;\">\n",
       "      <th></th>\n",
       "      <th>propertyid</th>\n",
       "      <th>stno</th>\n",
       "      <th>stname</th>\n",
       "      <th>owneroccupied</th>\n",
       "      <th>numbedrooms</th>\n",
       "      <th>numbathrooms</th>\n",
       "      <th>areasqft</th>\n",
       "    </tr>\n",
       "  </thead>\n",
       "  <tbody>\n",
       "    <tr>\n",
       "      <th>0</th>\n",
       "      <td>100001000.0</td>\n",
       "      <td>10.0</td>\n",
       "      <td>Kranti Road</td>\n",
       "      <td>Y</td>\n",
       "      <td>3.0</td>\n",
       "      <td>1</td>\n",
       "      <td>1000</td>\n",
       "    </tr>\n",
       "    <tr>\n",
       "      <th>1</th>\n",
       "      <td>100002000.0</td>\n",
       "      <td>17.0</td>\n",
       "      <td>Bhagat Singh Road</td>\n",
       "      <td>N</td>\n",
       "      <td>3.0</td>\n",
       "      <td>1.5</td>\n",
       "      <td>nil</td>\n",
       "    </tr>\n",
       "    <tr>\n",
       "      <th>2</th>\n",
       "      <td>100003000.0</td>\n",
       "      <td>77.0</td>\n",
       "      <td>Bhagat Singh Road</td>\n",
       "      <td>N</td>\n",
       "      <td>NaN</td>\n",
       "      <td>1</td>\n",
       "      <td>850</td>\n",
       "    </tr>\n",
       "    <tr>\n",
       "      <th>3</th>\n",
       "      <td>100004000.0</td>\n",
       "      <td>20.0</td>\n",
       "      <td>Azad Marg</td>\n",
       "      <td>12</td>\n",
       "      <td>1.0</td>\n",
       "      <td>NaN</td>\n",
       "      <td>700</td>\n",
       "    </tr>\n",
       "    <tr>\n",
       "      <th>4</th>\n",
       "      <td>NaN</td>\n",
       "      <td>23.0</td>\n",
       "      <td>Azad Marg</td>\n",
       "      <td>Y</td>\n",
       "      <td>3.0</td>\n",
       "      <td>2</td>\n",
       "      <td>1600</td>\n",
       "    </tr>\n",
       "  </tbody>\n",
       "</table>\n",
       "</div>"
      ],
      "text/plain": [
       "    propertyid  stno             stname owneroccupied  numbedrooms  \\\n",
       "0  100001000.0  10.0        Kranti Road             Y          3.0   \n",
       "1  100002000.0  17.0  Bhagat Singh Road             N          3.0   \n",
       "2  100003000.0  77.0  Bhagat Singh Road             N          NaN   \n",
       "3  100004000.0  20.0          Azad Marg            12          1.0   \n",
       "4          NaN  23.0          Azad Marg             Y          3.0   \n",
       "\n",
       "  numbathrooms areasqft  \n",
       "0            1     1000  \n",
       "1          1.5     nil   \n",
       "2            1      850  \n",
       "3          NaN      700  \n",
       "4            2     1600  "
      ]
     },
     "execution_count": 10,
     "metadata": {},
     "output_type": "execute_result"
    }
   ],
   "source": [
    "# 8. Fill the street number of record at index 2 with 77\n",
    "df['stno'].loc[df.index[2]] = 77\n",
    "df.head()"
   ]
  },
  {
   "cell_type": "code",
   "execution_count": 11,
   "id": "a7e7bc5e",
   "metadata": {},
   "outputs": [
    {
     "data": {
      "text/html": [
       "<div>\n",
       "<style scoped>\n",
       "    .dataframe tbody tr th:only-of-type {\n",
       "        vertical-align: middle;\n",
       "    }\n",
       "\n",
       "    .dataframe tbody tr th {\n",
       "        vertical-align: top;\n",
       "    }\n",
       "\n",
       "    .dataframe thead th {\n",
       "        text-align: right;\n",
       "    }\n",
       "</style>\n",
       "<table border=\"1\" class=\"dataframe\">\n",
       "  <thead>\n",
       "    <tr style=\"text-align: right;\">\n",
       "      <th></th>\n",
       "      <th>propertyid</th>\n",
       "      <th>stno</th>\n",
       "      <th>stname</th>\n",
       "      <th>owneroccupied</th>\n",
       "      <th>numbedrooms</th>\n",
       "      <th>numbathrooms</th>\n",
       "      <th>areasqft</th>\n",
       "    </tr>\n",
       "  </thead>\n",
       "  <tbody>\n",
       "    <tr>\n",
       "      <th>0</th>\n",
       "      <td>100001000.0</td>\n",
       "      <td>10.0</td>\n",
       "      <td>Kranti Road</td>\n",
       "      <td>Y</td>\n",
       "      <td>3.0</td>\n",
       "      <td>1</td>\n",
       "      <td>1000</td>\n",
       "    </tr>\n",
       "    <tr>\n",
       "      <th>1</th>\n",
       "      <td>100002000.0</td>\n",
       "      <td>17.0</td>\n",
       "      <td>Bhagat Singh Road</td>\n",
       "      <td>N</td>\n",
       "      <td>3.0</td>\n",
       "      <td>1.5</td>\n",
       "      <td>nil</td>\n",
       "    </tr>\n",
       "    <tr>\n",
       "      <th>2</th>\n",
       "      <td>100003000.0</td>\n",
       "      <td>77.0</td>\n",
       "      <td>Bhagat Singh Road</td>\n",
       "      <td>N</td>\n",
       "      <td>2.5</td>\n",
       "      <td>1</td>\n",
       "      <td>850</td>\n",
       "    </tr>\n",
       "    <tr>\n",
       "      <th>3</th>\n",
       "      <td>100004000.0</td>\n",
       "      <td>20.0</td>\n",
       "      <td>Azad Marg</td>\n",
       "      <td>12</td>\n",
       "      <td>1.0</td>\n",
       "      <td>NaN</td>\n",
       "      <td>700</td>\n",
       "    </tr>\n",
       "    <tr>\n",
       "      <th>4</th>\n",
       "      <td>NaN</td>\n",
       "      <td>23.0</td>\n",
       "      <td>Azad Marg</td>\n",
       "      <td>Y</td>\n",
       "      <td>3.0</td>\n",
       "      <td>2</td>\n",
       "      <td>1600</td>\n",
       "    </tr>\n",
       "  </tbody>\n",
       "</table>\n",
       "</div>"
      ],
      "text/plain": [
       "    propertyid  stno             stname owneroccupied  numbedrooms  \\\n",
       "0  100001000.0  10.0        Kranti Road             Y          3.0   \n",
       "1  100002000.0  17.0  Bhagat Singh Road             N          3.0   \n",
       "2  100003000.0  77.0  Bhagat Singh Road             N          2.5   \n",
       "3  100004000.0  20.0          Azad Marg            12          1.0   \n",
       "4          NaN  23.0          Azad Marg             Y          3.0   \n",
       "\n",
       "  numbathrooms areasqft  \n",
       "0            1     1000  \n",
       "1          1.5     nil   \n",
       "2            1      850  \n",
       "3          NaN      700  \n",
       "4            2     1600  "
      ]
     },
     "execution_count": 11,
     "metadata": {},
     "output_type": "execute_result"
    }
   ],
   "source": [
    "# 9. If there is any missing value in the “number of bedrooms” columns, then replace it with the median value of this column\n",
    "df['numbedrooms'] = df['numbedrooms'].fillna(np.nanmedian(df['numbedrooms']))\n",
    "df.head()"
   ]
  },
  {
   "cell_type": "code",
   "execution_count": 12,
   "id": "0eed6ba0",
   "metadata": {},
   "outputs": [
    {
     "data": {
      "text/plain": [
       "Y     5\n",
       "N     2\n",
       "12    1\n",
       "Name: owneroccupied, dtype: int64"
      ]
     },
     "execution_count": 12,
     "metadata": {},
     "output_type": "execute_result"
    }
   ],
   "source": [
    "# 10. Give your comment on the “owner occupied” column. \n",
    "df['owneroccupied'].value_counts()"
   ]
  },
  {
   "cell_type": "markdown",
   "id": "b21d47c2",
   "metadata": {},
   "source": [
    "'owneroccupied' is a categorical variable.\n",
    "Most of the RS are owner occupied."
   ]
  },
  {
   "cell_type": "code",
   "execution_count": 13,
   "id": "43fe00da",
   "metadata": {},
   "outputs": [
    {
     "name": "stderr",
     "output_type": "stream",
     "text": [
      "C:\\Users\\HP\\anaconda3\\lib\\site-packages\\pandas\\core\\indexing.py:1637: SettingWithCopyWarning: \n",
      "A value is trying to be set on a copy of a slice from a DataFrame\n",
      "\n",
      "See the caveats in the documentation: https://pandas.pydata.org/pandas-docs/stable/user_guide/indexing.html#returning-a-view-versus-a-copy\n",
      "  self._setitem_single_block(indexer, value, name)\n"
     ]
    }
   ],
   "source": [
    "# 11. It is believed that the data entry operator might have entered integer values in “owner occupied” column. Count number of such entries and replace them with numpy standard nan (np.nan)\n",
    "df['owneroccupied'].value_counts()\n",
    "df['owneroccupied'].loc[df.index[3]] = np.nan"
   ]
  },
  {
   "cell_type": "code",
   "execution_count": 14,
   "id": "a20c67fe",
   "metadata": {},
   "outputs": [
    {
     "data": {
      "text/html": [
       "<div>\n",
       "<style scoped>\n",
       "    .dataframe tbody tr th:only-of-type {\n",
       "        vertical-align: middle;\n",
       "    }\n",
       "\n",
       "    .dataframe tbody tr th {\n",
       "        vertical-align: top;\n",
       "    }\n",
       "\n",
       "    .dataframe thead th {\n",
       "        text-align: right;\n",
       "    }\n",
       "</style>\n",
       "<table border=\"1\" class=\"dataframe\">\n",
       "  <thead>\n",
       "    <tr style=\"text-align: right;\">\n",
       "      <th></th>\n",
       "      <th>propertyid</th>\n",
       "      <th>stno</th>\n",
       "      <th>stname</th>\n",
       "      <th>owneroccupied</th>\n",
       "      <th>numbedrooms</th>\n",
       "      <th>numbathrooms</th>\n",
       "      <th>areasqft</th>\n",
       "    </tr>\n",
       "  </thead>\n",
       "  <tbody>\n",
       "    <tr>\n",
       "      <th>0</th>\n",
       "      <td>100001000.0</td>\n",
       "      <td>10.0</td>\n",
       "      <td>Kranti Road</td>\n",
       "      <td>Y</td>\n",
       "      <td>3.0</td>\n",
       "      <td>1</td>\n",
       "      <td>1000</td>\n",
       "    </tr>\n",
       "    <tr>\n",
       "      <th>1</th>\n",
       "      <td>100002000.0</td>\n",
       "      <td>17.0</td>\n",
       "      <td>Bhagat Singh Road</td>\n",
       "      <td>N</td>\n",
       "      <td>3.0</td>\n",
       "      <td>1.5</td>\n",
       "      <td>nil</td>\n",
       "    </tr>\n",
       "    <tr>\n",
       "      <th>2</th>\n",
       "      <td>100003000.0</td>\n",
       "      <td>77.0</td>\n",
       "      <td>Bhagat Singh Road</td>\n",
       "      <td>N</td>\n",
       "      <td>2.5</td>\n",
       "      <td>1</td>\n",
       "      <td>850</td>\n",
       "    </tr>\n",
       "    <tr>\n",
       "      <th>3</th>\n",
       "      <td>100004000.0</td>\n",
       "      <td>20.0</td>\n",
       "      <td>Azad Marg</td>\n",
       "      <td>NaN</td>\n",
       "      <td>1.0</td>\n",
       "      <td>NaN</td>\n",
       "      <td>700</td>\n",
       "    </tr>\n",
       "    <tr>\n",
       "      <th>4</th>\n",
       "      <td>NaN</td>\n",
       "      <td>23.0</td>\n",
       "      <td>Azad Marg</td>\n",
       "      <td>Y</td>\n",
       "      <td>3.0</td>\n",
       "      <td>2</td>\n",
       "      <td>1600</td>\n",
       "    </tr>\n",
       "  </tbody>\n",
       "</table>\n",
       "</div>"
      ],
      "text/plain": [
       "    propertyid  stno             stname owneroccupied  numbedrooms  \\\n",
       "0  100001000.0  10.0        Kranti Road             Y          3.0   \n",
       "1  100002000.0  17.0  Bhagat Singh Road             N          3.0   \n",
       "2  100003000.0  77.0  Bhagat Singh Road             N          2.5   \n",
       "3  100004000.0  20.0          Azad Marg           NaN          1.0   \n",
       "4          NaN  23.0          Azad Marg             Y          3.0   \n",
       "\n",
       "  numbathrooms areasqft  \n",
       "0            1     1000  \n",
       "1          1.5     nil   \n",
       "2            1      850  \n",
       "3          NaN      700  \n",
       "4            2     1600  "
      ]
     },
     "execution_count": 14,
     "metadata": {},
     "output_type": "execute_result"
    }
   ],
   "source": [
    "df.head()"
   ]
  }
 ],
 "metadata": {
  "kernelspec": {
   "display_name": "Python 3",
   "language": "python",
   "name": "python3"
  },
  "language_info": {
   "codemirror_mode": {
    "name": "ipython",
    "version": 3
   },
   "file_extension": ".py",
   "mimetype": "text/x-python",
   "name": "python",
   "nbconvert_exporter": "python",
   "pygments_lexer": "ipython3",
   "version": "3.8.8"
  }
 },
 "nbformat": 4,
 "nbformat_minor": 5
}
