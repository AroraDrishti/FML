{
 "cells": [
  {
   "cell_type": "markdown",
   "id": "023e2c0b",
   "metadata": {},
   "source": [
    "# LAB 1"
   ]
  },
  {
   "cell_type": "code",
   "execution_count": 1,
   "id": "e356b787",
   "metadata": {},
   "outputs": [],
   "source": [
    "import numpy as np\n",
    "import pandas as pd\n",
    "import matplotlib.pyplot as plt"
   ]
  },
  {
   "cell_type": "code",
   "execution_count": 2,
   "id": "bf446d94",
   "metadata": {},
   "outputs": [],
   "source": [
    "# a. Load this file into a python DataFrame\n",
    "df = pd.read_csv('student.csv')"
   ]
  },
  {
   "cell_type": "code",
   "execution_count": 3,
   "id": "f4c34b38",
   "metadata": {},
   "outputs": [
    {
     "name": "stdout",
     "output_type": "stream",
     "text": [
      "Rows and columns in the dataframe: (6, 5)\n"
     ]
    }
   ],
   "source": [
    "# b. Find the number of rows and columns in it\n",
    "print('Rows and columns in the dataframe: ' + str(df.shape))"
   ]
  },
  {
   "cell_type": "code",
   "execution_count": 4,
   "id": "3f2814e0",
   "metadata": {},
   "outputs": [
    {
     "name": "stdout",
     "output_type": "stream",
     "text": [
      "Columns in the dataframe: \n",
      "Index(['Name', 'Age', 'Sex', 'Marks', 'Grade'], dtype='object')\n"
     ]
    }
   ],
   "source": [
    "# c. Print column names\n",
    "print('Columns in the dataframe: \\n' + str(df.columns))"
   ]
  },
  {
   "cell_type": "code",
   "execution_count": 5,
   "id": "71fd0b68",
   "metadata": {},
   "outputs": [
    {
     "data": {
      "text/html": [
       "<div>\n",
       "<style scoped>\n",
       "    .dataframe tbody tr th:only-of-type {\n",
       "        vertical-align: middle;\n",
       "    }\n",
       "\n",
       "    .dataframe tbody tr th {\n",
       "        vertical-align: top;\n",
       "    }\n",
       "\n",
       "    .dataframe thead th {\n",
       "        text-align: right;\n",
       "    }\n",
       "</style>\n",
       "<table border=\"1\" class=\"dataframe\">\n",
       "  <thead>\n",
       "    <tr style=\"text-align: right;\">\n",
       "      <th></th>\n",
       "      <th>FirstName</th>\n",
       "      <th>Age</th>\n",
       "      <th>Sex</th>\n",
       "      <th>Marks</th>\n",
       "      <th>Grade</th>\n",
       "    </tr>\n",
       "  </thead>\n",
       "  <tbody>\n",
       "    <tr>\n",
       "      <th>0</th>\n",
       "      <td>Nihar</td>\n",
       "      <td>23</td>\n",
       "      <td>M</td>\n",
       "      <td>23</td>\n",
       "      <td>C</td>\n",
       "    </tr>\n",
       "    <tr>\n",
       "      <th>1</th>\n",
       "      <td>Ranjan</td>\n",
       "      <td>34</td>\n",
       "      <td>M</td>\n",
       "      <td>40</td>\n",
       "      <td>B</td>\n",
       "    </tr>\n",
       "    <tr>\n",
       "      <th>2</th>\n",
       "      <td>Roy</td>\n",
       "      <td>23</td>\n",
       "      <td>M</td>\n",
       "      <td>47</td>\n",
       "      <td>A</td>\n",
       "    </tr>\n",
       "    <tr>\n",
       "      <th>3</th>\n",
       "      <td>Sunita</td>\n",
       "      <td>18</td>\n",
       "      <td>F</td>\n",
       "      <td>49</td>\n",
       "      <td>A</td>\n",
       "    </tr>\n",
       "    <tr>\n",
       "      <th>4</th>\n",
       "      <td>Gita</td>\n",
       "      <td>23</td>\n",
       "      <td>F</td>\n",
       "      <td>23</td>\n",
       "      <td>D</td>\n",
       "    </tr>\n",
       "  </tbody>\n",
       "</table>\n",
       "</div>"
      ],
      "text/plain": [
       "  FirstName  Age Sex  Marks Grade\n",
       "0     Nihar   23   M     23     C\n",
       "1    Ranjan   34   M     40     B\n",
       "2       Roy   23   M     47     A\n",
       "3    Sunita   18   F     49     A\n",
       "4      Gita   23   F     23     D"
      ]
     },
     "execution_count": 5,
     "metadata": {},
     "output_type": "execute_result"
    }
   ],
   "source": [
    "# d. Change column name `Name' with new name `FirstName'\n",
    "df.rename(columns={'Name': 'FirstName'}, inplace=True)\n",
    "df.head()"
   ]
  },
  {
   "cell_type": "code",
   "execution_count": 6,
   "id": "da00fd40",
   "metadata": {},
   "outputs": [
    {
     "data": {
      "text/html": [
       "<div>\n",
       "<style scoped>\n",
       "    .dataframe tbody tr th:only-of-type {\n",
       "        vertical-align: middle;\n",
       "    }\n",
       "\n",
       "    .dataframe tbody tr th {\n",
       "        vertical-align: top;\n",
       "    }\n",
       "\n",
       "    .dataframe thead th {\n",
       "        text-align: right;\n",
       "    }\n",
       "</style>\n",
       "<table border=\"1\" class=\"dataframe\">\n",
       "  <thead>\n",
       "    <tr style=\"text-align: right;\">\n",
       "      <th></th>\n",
       "      <th>FirstName</th>\n",
       "      <th>Age</th>\n",
       "      <th>Sex</th>\n",
       "      <th>Marks</th>\n",
       "      <th>Grade</th>\n",
       "    </tr>\n",
       "  </thead>\n",
       "  <tbody>\n",
       "    <tr>\n",
       "      <th>1</th>\n",
       "      <td>Ranjan</td>\n",
       "      <td>34</td>\n",
       "      <td>M</td>\n",
       "      <td>40</td>\n",
       "      <td>B</td>\n",
       "    </tr>\n",
       "    <tr>\n",
       "      <th>2</th>\n",
       "      <td>Roy</td>\n",
       "      <td>23</td>\n",
       "      <td>M</td>\n",
       "      <td>47</td>\n",
       "      <td>A</td>\n",
       "    </tr>\n",
       "    <tr>\n",
       "      <th>3</th>\n",
       "      <td>Sunita</td>\n",
       "      <td>18</td>\n",
       "      <td>F</td>\n",
       "      <td>49</td>\n",
       "      <td>A</td>\n",
       "    </tr>\n",
       "    <tr>\n",
       "      <th>4</th>\n",
       "      <td>Gita</td>\n",
       "      <td>23</td>\n",
       "      <td>F</td>\n",
       "      <td>23</td>\n",
       "      <td>D</td>\n",
       "    </tr>\n",
       "    <tr>\n",
       "      <th>5</th>\n",
       "      <td>Sita</td>\n",
       "      <td>34</td>\n",
       "      <td>F</td>\n",
       "      <td>34</td>\n",
       "      <td>C</td>\n",
       "    </tr>\n",
       "  </tbody>\n",
       "</table>\n",
       "</div>"
      ],
      "text/plain": [
       "  FirstName  Age Sex  Marks Grade\n",
       "1    Ranjan   34   M     40     B\n",
       "2       Roy   23   M     47     A\n",
       "3    Sunita   18   F     49     A\n",
       "4      Gita   23   F     23     D\n",
       "5      Sita   34   F     34     C"
      ]
     },
     "execution_count": 6,
     "metadata": {},
     "output_type": "execute_result"
    }
   ],
   "source": [
    "# e. Print last 5 rows from the bottom\n",
    "df.tail()"
   ]
  },
  {
   "cell_type": "code",
   "execution_count": 7,
   "id": "64760e09",
   "metadata": {},
   "outputs": [
    {
     "data": {
      "text/html": [
       "<div>\n",
       "<style scoped>\n",
       "    .dataframe tbody tr th:only-of-type {\n",
       "        vertical-align: middle;\n",
       "    }\n",
       "\n",
       "    .dataframe tbody tr th {\n",
       "        vertical-align: top;\n",
       "    }\n",
       "\n",
       "    .dataframe thead th {\n",
       "        text-align: right;\n",
       "    }\n",
       "</style>\n",
       "<table border=\"1\" class=\"dataframe\">\n",
       "  <thead>\n",
       "    <tr style=\"text-align: right;\">\n",
       "      <th></th>\n",
       "      <th>FirstName</th>\n",
       "      <th>Age</th>\n",
       "      <th>Sex</th>\n",
       "      <th>Marks</th>\n",
       "      <th>Grade</th>\n",
       "    </tr>\n",
       "  </thead>\n",
       "  <tbody>\n",
       "    <tr>\n",
       "      <th>0</th>\n",
       "      <td>Nihar</td>\n",
       "      <td>23</td>\n",
       "      <td>M</td>\n",
       "      <td>23</td>\n",
       "      <td>C</td>\n",
       "    </tr>\n",
       "    <tr>\n",
       "      <th>4</th>\n",
       "      <td>Gita</td>\n",
       "      <td>23</td>\n",
       "      <td>F</td>\n",
       "      <td>23</td>\n",
       "      <td>D</td>\n",
       "    </tr>\n",
       "  </tbody>\n",
       "</table>\n",
       "</div>"
      ],
      "text/plain": [
       "  FirstName  Age Sex  Marks Grade\n",
       "0     Nihar   23   M     23     C\n",
       "4      Gita   23   F     23     D"
      ]
     },
     "execution_count": 7,
     "metadata": {},
     "output_type": "execute_result"
    }
   ],
   "source": [
    "# f. Print the details of student with lowest marks\n",
    "df[df['Marks'] == min(df['Marks'])]"
   ]
  },
  {
   "cell_type": "code",
   "execution_count": 8,
   "id": "fa57f2d4",
   "metadata": {},
   "outputs": [
    {
     "name": "stdout",
     "output_type": "stream",
     "text": [
      "Total marks of all female students = 106\n"
     ]
    }
   ],
   "source": [
    "# g. Find total marks of all female students\n",
    "l1 = df[df['Sex'] == 'F']['Marks']\n",
    "l1 = l1.tolist()\n",
    "\n",
    "sum = 0\n",
    "for i in l1:\n",
    "    sum = sum + i\n",
    "print('Total marks of all female students = ' + str(sum))"
   ]
  },
  {
   "cell_type": "code",
   "execution_count": 9,
   "id": "3475c168",
   "metadata": {},
   "outputs": [
    {
     "data": {
      "text/plain": [
       "0     Nihar\n",
       "1    Ranjan\n",
       "2       Roy\n",
       "Name: FirstName, dtype: object"
      ]
     },
     "execution_count": 9,
     "metadata": {},
     "output_type": "execute_result"
    }
   ],
   "source": [
    "# h. List names of all the male students\n",
    "df[df['Sex'] == 'M']['FirstName']"
   ]
  },
  {
   "cell_type": "code",
   "execution_count": 10,
   "id": "ef07bc44",
   "metadata": {},
   "outputs": [
    {
     "name": "stdout",
     "output_type": "stream",
     "text": [
      "Mean age of the class = 25.833333333333332\n"
     ]
    }
   ],
   "source": [
    "# i. Find mean age of the class\n",
    "print('Mean age of the class = ' + str(np.mean(df.Age)))"
   ]
  },
  {
   "cell_type": "code",
   "execution_count": 11,
   "id": "c09b37a0",
   "metadata": {},
   "outputs": [
    {
     "data": {
      "text/plain": [
       "Text(0.5, 1.0, 'Line plot for marks of the class')"
      ]
     },
     "execution_count": 11,
     "metadata": {},
     "output_type": "execute_result"
    },
    {
     "data": {
      "image/png": "[encoded data removed]",
      "text/plain": [
       "<Figure size 432x288 with 1 Axes>"
      ]
     },
     "metadata": {
      "needs_background": "light"
     },
     "output_type": "display_data"
    }
   ],
   "source": [
    "# j. Line plot marks of the class\n",
    "plt.plot(df.Marks)\n",
    "plt.title('Line plot for marks of the class')"
   ]
  },
  {
   "cell_type": "code",
   "execution_count": 12,
   "id": "0548f3d0",
   "metadata": {},
   "outputs": [
    {
     "data": {
      "text/plain": [
       "[1, 5]"
      ]
     },
     "execution_count": 12,
     "metadata": {},
     "output_type": "execute_result"
    }
   ],
   "source": [
    "# k. Find the index of record of oldest student in the class\n",
    "list(df[df['Age'] == max(df['Age'])].index.values)"
   ]
  },
  {
   "cell_type": "code",
   "execution_count": 13,
   "id": "cde17a3d",
   "metadata": {},
   "outputs": [
    {
     "data": {
      "text/html": [
       "<div>\n",
       "<style scoped>\n",
       "    .dataframe tbody tr th:only-of-type {\n",
       "        vertical-align: middle;\n",
       "    }\n",
       "\n",
       "    .dataframe tbody tr th {\n",
       "        vertical-align: top;\n",
       "    }\n",
       "\n",
       "    .dataframe thead th {\n",
       "        text-align: right;\n",
       "    }\n",
       "</style>\n",
       "<table border=\"1\" class=\"dataframe\">\n",
       "  <thead>\n",
       "    <tr style=\"text-align: right;\">\n",
       "      <th></th>\n",
       "      <th>FirstName</th>\n",
       "      <th>Age</th>\n",
       "      <th>Sex</th>\n",
       "      <th>Marks</th>\n",
       "      <th>Grade</th>\n",
       "    </tr>\n",
       "  </thead>\n",
       "  <tbody>\n",
       "    <tr>\n",
       "      <th>4</th>\n",
       "      <td>Gita</td>\n",
       "      <td>23</td>\n",
       "      <td>F</td>\n",
       "      <td>23</td>\n",
       "      <td>D</td>\n",
       "    </tr>\n",
       "    <tr>\n",
       "      <th>0</th>\n",
       "      <td>Nihar</td>\n",
       "      <td>23</td>\n",
       "      <td>M</td>\n",
       "      <td>23</td>\n",
       "      <td>C</td>\n",
       "    </tr>\n",
       "    <tr>\n",
       "      <th>1</th>\n",
       "      <td>Ranjan</td>\n",
       "      <td>34</td>\n",
       "      <td>M</td>\n",
       "      <td>40</td>\n",
       "      <td>B</td>\n",
       "    </tr>\n",
       "    <tr>\n",
       "      <th>2</th>\n",
       "      <td>Roy</td>\n",
       "      <td>23</td>\n",
       "      <td>M</td>\n",
       "      <td>47</td>\n",
       "      <td>A</td>\n",
       "    </tr>\n",
       "    <tr>\n",
       "      <th>5</th>\n",
       "      <td>Sita</td>\n",
       "      <td>34</td>\n",
       "      <td>F</td>\n",
       "      <td>34</td>\n",
       "      <td>C</td>\n",
       "    </tr>\n",
       "    <tr>\n",
       "      <th>3</th>\n",
       "      <td>Sunita</td>\n",
       "      <td>18</td>\n",
       "      <td>F</td>\n",
       "      <td>49</td>\n",
       "      <td>A</td>\n",
       "    </tr>\n",
       "  </tbody>\n",
       "</table>\n",
       "</div>"
      ],
      "text/plain": [
       "  FirstName  Age Sex  Marks Grade\n",
       "4      Gita   23   F     23     D\n",
       "0     Nihar   23   M     23     C\n",
       "1    Ranjan   34   M     40     B\n",
       "2       Roy   23   M     47     A\n",
       "5      Sita   34   F     34     C\n",
       "3    Sunita   18   F     49     A"
      ]
     },
     "execution_count": 13,
     "metadata": {},
     "output_type": "execute_result"
    }
   ],
   "source": [
    "# l. Sort and print the data on the basis of Name followed by Age\n",
    "df.sort_values(by=['FirstName','Age'])"
   ]
  },
  {
   "cell_type": "code",
   "execution_count": 14,
   "id": "bb2e858c",
   "metadata": {},
   "outputs": [
    {
     "data": {
      "text/html": [
       "<div>\n",
       "<style scoped>\n",
       "    .dataframe tbody tr th:only-of-type {\n",
       "        vertical-align: middle;\n",
       "    }\n",
       "\n",
       "    .dataframe tbody tr th {\n",
       "        vertical-align: top;\n",
       "    }\n",
       "\n",
       "    .dataframe thead th {\n",
       "        text-align: right;\n",
       "    }\n",
       "</style>\n",
       "<table border=\"1\" class=\"dataframe\">\n",
       "  <thead>\n",
       "    <tr style=\"text-align: right;\">\n",
       "      <th></th>\n",
       "      <th>FirstName</th>\n",
       "      <th>Age</th>\n",
       "      <th>Sex</th>\n",
       "      <th>Marks</th>\n",
       "      <th>Grade</th>\n",
       "    </tr>\n",
       "  </thead>\n",
       "  <tbody>\n",
       "    <tr>\n",
       "      <th>0</th>\n",
       "      <td>Jason Bourne</td>\n",
       "      <td>23</td>\n",
       "      <td>M</td>\n",
       "      <td>23</td>\n",
       "      <td>C</td>\n",
       "    </tr>\n",
       "    <tr>\n",
       "      <th>1</th>\n",
       "      <td>Ranjan</td>\n",
       "      <td>34</td>\n",
       "      <td>M</td>\n",
       "      <td>40</td>\n",
       "      <td>B</td>\n",
       "    </tr>\n",
       "    <tr>\n",
       "      <th>2</th>\n",
       "      <td>Roy</td>\n",
       "      <td>23</td>\n",
       "      <td>M</td>\n",
       "      <td>47</td>\n",
       "      <td>A</td>\n",
       "    </tr>\n",
       "    <tr>\n",
       "      <th>3</th>\n",
       "      <td>Sunita</td>\n",
       "      <td>18</td>\n",
       "      <td>F</td>\n",
       "      <td>49</td>\n",
       "      <td>A</td>\n",
       "    </tr>\n",
       "    <tr>\n",
       "      <th>4</th>\n",
       "      <td>Gita</td>\n",
       "      <td>23</td>\n",
       "      <td>F</td>\n",
       "      <td>23</td>\n",
       "      <td>D</td>\n",
       "    </tr>\n",
       "  </tbody>\n",
       "</table>\n",
       "</div>"
      ],
      "text/plain": [
       "      FirstName  Age Sex  Marks Grade\n",
       "0  Jason Bourne   23   M     23     C\n",
       "1        Ranjan   34   M     40     B\n",
       "2           Roy   23   M     47     A\n",
       "3        Sunita   18   F     49     A\n",
       "4          Gita   23   F     23     D"
      ]
     },
     "execution_count": 14,
     "metadata": {},
     "output_type": "execute_result"
    }
   ],
   "source": [
    "# m. Change the name 'Nihar' to 'Jason Bourne' in name column of the DataFrame\n",
    "ind = df[df['FirstName'] == 'Nihar'].index.values\n",
    "df.at[ind[0],'FirstName'] = 'Jason Bourne'\n",
    "df.head()"
   ]
  },
  {
   "cell_type": "code",
   "execution_count": 15,
   "id": "69ae0a47",
   "metadata": {},
   "outputs": [
    {
     "data": {
      "text/html": [
       "<div>\n",
       "<style scoped>\n",
       "    .dataframe tbody tr th:only-of-type {\n",
       "        vertical-align: middle;\n",
       "    }\n",
       "\n",
       "    .dataframe tbody tr th {\n",
       "        vertical-align: top;\n",
       "    }\n",
       "\n",
       "    .dataframe thead th {\n",
       "        text-align: right;\n",
       "    }\n",
       "</style>\n",
       "<table border=\"1\" class=\"dataframe\">\n",
       "  <thead>\n",
       "    <tr style=\"text-align: right;\">\n",
       "      <th></th>\n",
       "      <th>FirstName</th>\n",
       "      <th>Sex</th>\n",
       "      <th>Age</th>\n",
       "      <th>Marks</th>\n",
       "      <th>Grade</th>\n",
       "    </tr>\n",
       "  </thead>\n",
       "  <tbody>\n",
       "    <tr>\n",
       "      <th>0</th>\n",
       "      <td>Jason Bourne</td>\n",
       "      <td>M</td>\n",
       "      <td>23</td>\n",
       "      <td>23</td>\n",
       "      <td>C</td>\n",
       "    </tr>\n",
       "    <tr>\n",
       "      <th>1</th>\n",
       "      <td>Ranjan</td>\n",
       "      <td>M</td>\n",
       "      <td>34</td>\n",
       "      <td>40</td>\n",
       "      <td>B</td>\n",
       "    </tr>\n",
       "    <tr>\n",
       "      <th>2</th>\n",
       "      <td>Roy</td>\n",
       "      <td>M</td>\n",
       "      <td>23</td>\n",
       "      <td>47</td>\n",
       "      <td>A</td>\n",
       "    </tr>\n",
       "    <tr>\n",
       "      <th>3</th>\n",
       "      <td>Sunita</td>\n",
       "      <td>F</td>\n",
       "      <td>18</td>\n",
       "      <td>49</td>\n",
       "      <td>A</td>\n",
       "    </tr>\n",
       "    <tr>\n",
       "      <th>4</th>\n",
       "      <td>Gita</td>\n",
       "      <td>F</td>\n",
       "      <td>23</td>\n",
       "      <td>23</td>\n",
       "      <td>D</td>\n",
       "    </tr>\n",
       "    <tr>\n",
       "      <th>5</th>\n",
       "      <td>Sita</td>\n",
       "      <td>F</td>\n",
       "      <td>34</td>\n",
       "      <td>34</td>\n",
       "      <td>C</td>\n",
       "    </tr>\n",
       "  </tbody>\n",
       "</table>\n",
       "</div>"
      ],
      "text/plain": [
       "      FirstName Sex  Age  Marks Grade\n",
       "0  Jason Bourne   M   23     23     C\n",
       "1        Ranjan   M   34     40     B\n",
       "2           Roy   M   23     47     A\n",
       "3        Sunita   F   18     49     A\n",
       "4          Gita   F   23     23     D\n",
       "5          Sita   F   34     34     C"
      ]
     },
     "execution_count": 15,
     "metadata": {},
     "output_type": "execute_result"
    }
   ],
   "source": [
    "# n. Change and print order of the columns (Name, Sex, Age, Marks, Grade)\n",
    "df.iloc[:,[0, 2, 1, 3, 4]]"
   ]
  },
  {
   "cell_type": "code",
   "execution_count": 16,
   "id": "d421aa0c",
   "metadata": {},
   "outputs": [
    {
     "name": "stdout",
     "output_type": "stream",
     "text": [
      "F\n",
      "  FirstName  Age Sex  Marks Grade\n",
      "3    Sunita   18   F     49     A\n",
      "4      Gita   23   F     23     D\n",
      "5      Sita   34   F     34     C\n",
      "M\n",
      "      FirstName  Age Sex  Marks Grade\n",
      "0  Jason Bourne   23   M     23     C\n",
      "1        Ranjan   34   M     40     B\n",
      "2           Roy   23   M     47     A\n"
     ]
    }
   ],
   "source": [
    "# o. Count and print number of students sex wise and display result with suitable column headers\n",
    "df.groupby('Sex').groups\n",
    "gr = df.groupby('Sex')\n",
    "\n",
    "for name,group in gr:\n",
    "   print(name)\n",
    "   print(group) "
   ]
  },
  {
   "cell_type": "code",
   "execution_count": 17,
   "id": "663e7fa2",
   "metadata": {},
   "outputs": [
    {
     "data": {
      "text/html": [
       "<div>\n",
       "<style scoped>\n",
       "    .dataframe tbody tr th:only-of-type {\n",
       "        vertical-align: middle;\n",
       "    }\n",
       "\n",
       "    .dataframe tbody tr th {\n",
       "        vertical-align: top;\n",
       "    }\n",
       "\n",
       "    .dataframe thead th {\n",
       "        text-align: right;\n",
       "    }\n",
       "</style>\n",
       "<table border=\"1\" class=\"dataframe\">\n",
       "  <thead>\n",
       "    <tr style=\"text-align: right;\">\n",
       "      <th></th>\n",
       "      <th>FirstName</th>\n",
       "      <th>Age</th>\n",
       "      <th>Sex</th>\n",
       "      <th>Marks</th>\n",
       "      <th>Grade</th>\n",
       "    </tr>\n",
       "  </thead>\n",
       "  <tbody>\n",
       "    <tr>\n",
       "      <th>0</th>\n",
       "      <td>Jason Bourne</td>\n",
       "      <td>23</td>\n",
       "      <td>M</td>\n",
       "      <td>23</td>\n",
       "      <td>C</td>\n",
       "    </tr>\n",
       "    <tr>\n",
       "      <th>1</th>\n",
       "      <td>Ranjan</td>\n",
       "      <td>34</td>\n",
       "      <td>M</td>\n",
       "      <td>40</td>\n",
       "      <td>B</td>\n",
       "    </tr>\n",
       "    <tr>\n",
       "      <th>2</th>\n",
       "      <td>Roy</td>\n",
       "      <td>23</td>\n",
       "      <td>M</td>\n",
       "      <td>47</td>\n",
       "      <td>A</td>\n",
       "    </tr>\n",
       "    <tr>\n",
       "      <th>4</th>\n",
       "      <td>Gita</td>\n",
       "      <td>23</td>\n",
       "      <td>F</td>\n",
       "      <td>23</td>\n",
       "      <td>D</td>\n",
       "    </tr>\n",
       "    <tr>\n",
       "      <th>5</th>\n",
       "      <td>Sita</td>\n",
       "      <td>34</td>\n",
       "      <td>F</td>\n",
       "      <td>34</td>\n",
       "      <td>C</td>\n",
       "    </tr>\n",
       "  </tbody>\n",
       "</table>\n",
       "</div>"
      ],
      "text/plain": [
       "      FirstName  Age Sex  Marks Grade\n",
       "0  Jason Bourne   23   M     23     C\n",
       "1        Ranjan   34   M     40     B\n",
       "2           Roy   23   M     47     A\n",
       "4          Gita   23   F     23     D\n",
       "5          Sita   34   F     34     C"
      ]
     },
     "execution_count": 17,
     "metadata": {},
     "output_type": "execute_result"
    }
   ],
   "source": [
    "# p. Delete and print row where age=18\n",
    "ind2 = df[df['Age'] == 18].index\n",
    "df.drop(df.index[ind2], inplace=True)\n",
    "df"
   ]
  },
  {
   "cell_type": "code",
   "execution_count": 18,
   "id": "095d56f9",
   "metadata": {},
   "outputs": [
    {
     "data": {
      "text/plain": [
       "FirstName    object\n",
       "Age           int64\n",
       "Sex          object\n",
       "Marks         int64\n",
       "Grade        object\n",
       "dtype: object"
      ]
     },
     "execution_count": 18,
     "metadata": {},
     "output_type": "execute_result"
    }
   ],
   "source": [
    "# q. Print the data types of individual columns of the data frame\n",
    "df.dtypes"
   ]
  },
  {
   "cell_type": "code",
   "execution_count": 19,
   "id": "2999dd37",
   "metadata": {},
   "outputs": [
    {
     "data": {
      "text/html": [
       "<div>\n",
       "<style scoped>\n",
       "    .dataframe tbody tr th:only-of-type {\n",
       "        vertical-align: middle;\n",
       "    }\n",
       "\n",
       "    .dataframe tbody tr th {\n",
       "        vertical-align: top;\n",
       "    }\n",
       "\n",
       "    .dataframe thead th {\n",
       "        text-align: right;\n",
       "    }\n",
       "</style>\n",
       "<table border=\"1\" class=\"dataframe\">\n",
       "  <thead>\n",
       "    <tr style=\"text-align: right;\">\n",
       "      <th></th>\n",
       "      <th>FirstName</th>\n",
       "      <th>Age</th>\n",
       "      <th>Sex</th>\n",
       "      <th>Marks</th>\n",
       "      <th>Grade</th>\n",
       "    </tr>\n",
       "  </thead>\n",
       "  <tbody>\n",
       "    <tr>\n",
       "      <th>0</th>\n",
       "      <td>Jason Bourne</td>\n",
       "      <td>23.0</td>\n",
       "      <td>M</td>\n",
       "      <td>23</td>\n",
       "      <td>C</td>\n",
       "    </tr>\n",
       "    <tr>\n",
       "      <th>1</th>\n",
       "      <td>Ranjan</td>\n",
       "      <td>34.0</td>\n",
       "      <td>M</td>\n",
       "      <td>40</td>\n",
       "      <td>B</td>\n",
       "    </tr>\n",
       "    <tr>\n",
       "      <th>2</th>\n",
       "      <td>Roy</td>\n",
       "      <td>23.0</td>\n",
       "      <td>M</td>\n",
       "      <td>47</td>\n",
       "      <td>A</td>\n",
       "    </tr>\n",
       "    <tr>\n",
       "      <th>4</th>\n",
       "      <td>Gita</td>\n",
       "      <td>23.0</td>\n",
       "      <td>F</td>\n",
       "      <td>23</td>\n",
       "      <td>D</td>\n",
       "    </tr>\n",
       "    <tr>\n",
       "      <th>5</th>\n",
       "      <td>Sita</td>\n",
       "      <td>34.0</td>\n",
       "      <td>F</td>\n",
       "      <td>34</td>\n",
       "      <td>C</td>\n",
       "    </tr>\n",
       "  </tbody>\n",
       "</table>\n",
       "</div>"
      ],
      "text/plain": [
       "      FirstName   Age Sex  Marks Grade\n",
       "0  Jason Bourne  23.0   M     23     C\n",
       "1        Ranjan  34.0   M     40     B\n",
       "2           Roy  23.0   M     47     A\n",
       "4          Gita  23.0   F     23     D\n",
       "5          Sita  34.0   F     34     C"
      ]
     },
     "execution_count": 19,
     "metadata": {},
     "output_type": "execute_result"
    }
   ],
   "source": [
    "# r. Convert and print the datatype of a given column Age (int to float)\n",
    "df['Age'] = df['Age'].astype(float)\n",
    "df.head()"
   ]
  },
  {
   "cell_type": "code",
   "execution_count": 20,
   "id": "c3252d8b",
   "metadata": {},
   "outputs": [
    {
     "data": {
      "text/html": [
       "<div>\n",
       "<style scoped>\n",
       "    .dataframe tbody tr th:only-of-type {\n",
       "        vertical-align: middle;\n",
       "    }\n",
       "\n",
       "    .dataframe tbody tr th {\n",
       "        vertical-align: top;\n",
       "    }\n",
       "\n",
       "    .dataframe thead th {\n",
       "        text-align: right;\n",
       "    }\n",
       "</style>\n",
       "<table border=\"1\" class=\"dataframe\">\n",
       "  <thead>\n",
       "    <tr style=\"text-align: right;\">\n",
       "      <th></th>\n",
       "      <th>FirstName</th>\n",
       "      <th>Age</th>\n",
       "      <th>Sex</th>\n",
       "      <th>Marks</th>\n",
       "      <th>Grade</th>\n",
       "      <th>UpdatedMarks</th>\n",
       "    </tr>\n",
       "  </thead>\n",
       "  <tbody>\n",
       "    <tr>\n",
       "      <th>0</th>\n",
       "      <td>Jason Bourne</td>\n",
       "      <td>23.0</td>\n",
       "      <td>M</td>\n",
       "      <td>23</td>\n",
       "      <td>C</td>\n",
       "      <td>24.265</td>\n",
       "    </tr>\n",
       "    <tr>\n",
       "      <th>1</th>\n",
       "      <td>Ranjan</td>\n",
       "      <td>34.0</td>\n",
       "      <td>M</td>\n",
       "      <td>40</td>\n",
       "      <td>B</td>\n",
       "      <td>42.200</td>\n",
       "    </tr>\n",
       "    <tr>\n",
       "      <th>2</th>\n",
       "      <td>Roy</td>\n",
       "      <td>23.0</td>\n",
       "      <td>M</td>\n",
       "      <td>47</td>\n",
       "      <td>A</td>\n",
       "      <td>49.585</td>\n",
       "    </tr>\n",
       "    <tr>\n",
       "      <th>4</th>\n",
       "      <td>Gita</td>\n",
       "      <td>23.0</td>\n",
       "      <td>F</td>\n",
       "      <td>23</td>\n",
       "      <td>D</td>\n",
       "      <td>24.265</td>\n",
       "    </tr>\n",
       "    <tr>\n",
       "      <th>5</th>\n",
       "      <td>Sita</td>\n",
       "      <td>34.0</td>\n",
       "      <td>F</td>\n",
       "      <td>34</td>\n",
       "      <td>C</td>\n",
       "      <td>35.870</td>\n",
       "    </tr>\n",
       "  </tbody>\n",
       "</table>\n",
       "</div>"
      ],
      "text/plain": [
       "      FirstName   Age Sex  Marks Grade  UpdatedMarks\n",
       "0  Jason Bourne  23.0   M     23     C        24.265\n",
       "1        Ranjan  34.0   M     40     B        42.200\n",
       "2           Roy  23.0   M     47     A        49.585\n",
       "4          Gita  23.0   F     23     D        24.265\n",
       "5          Sita  34.0   F     34     C        35.870"
      ]
     },
     "execution_count": 20,
     "metadata": {},
     "output_type": "execute_result"
    }
   ],
   "source": [
    "# s. Create a new column named “UpdatedMarks” which as 5.5% more marks than the existing Marks column\n",
    "df['UpdatedMarks'] = df['Marks']*1.055\n",
    "df.head()"
   ]
  },
  {
   "cell_type": "code",
   "execution_count": 21,
   "id": "67070f61",
   "metadata": {},
   "outputs": [
    {
     "data": {
      "text/html": [
       "<div>\n",
       "<style scoped>\n",
       "    .dataframe tbody tr th:only-of-type {\n",
       "        vertical-align: middle;\n",
       "    }\n",
       "\n",
       "    .dataframe tbody tr th {\n",
       "        vertical-align: top;\n",
       "    }\n",
       "\n",
       "    .dataframe thead th {\n",
       "        text-align: right;\n",
       "    }\n",
       "</style>\n",
       "<table border=\"1\" class=\"dataframe\">\n",
       "  <thead>\n",
       "    <tr style=\"text-align: right;\">\n",
       "      <th></th>\n",
       "      <th>FirstName</th>\n",
       "      <th>Age</th>\n",
       "      <th>Sex</th>\n",
       "      <th>Grade</th>\n",
       "      <th>UpdatedMarks</th>\n",
       "    </tr>\n",
       "  </thead>\n",
       "  <tbody>\n",
       "    <tr>\n",
       "      <th>0</th>\n",
       "      <td>Jason Bourne</td>\n",
       "      <td>23.0</td>\n",
       "      <td>M</td>\n",
       "      <td>C</td>\n",
       "      <td>24.265</td>\n",
       "    </tr>\n",
       "    <tr>\n",
       "      <th>1</th>\n",
       "      <td>Ranjan</td>\n",
       "      <td>34.0</td>\n",
       "      <td>M</td>\n",
       "      <td>B</td>\n",
       "      <td>42.200</td>\n",
       "    </tr>\n",
       "    <tr>\n",
       "      <th>2</th>\n",
       "      <td>Roy</td>\n",
       "      <td>23.0</td>\n",
       "      <td>M</td>\n",
       "      <td>A</td>\n",
       "      <td>49.585</td>\n",
       "    </tr>\n",
       "    <tr>\n",
       "      <th>4</th>\n",
       "      <td>Gita</td>\n",
       "      <td>23.0</td>\n",
       "      <td>F</td>\n",
       "      <td>D</td>\n",
       "      <td>24.265</td>\n",
       "    </tr>\n",
       "    <tr>\n",
       "      <th>5</th>\n",
       "      <td>Sita</td>\n",
       "      <td>34.0</td>\n",
       "      <td>F</td>\n",
       "      <td>C</td>\n",
       "      <td>35.870</td>\n",
       "    </tr>\n",
       "  </tbody>\n",
       "</table>\n",
       "</div>"
      ],
      "text/plain": [
       "      FirstName   Age Sex Grade  UpdatedMarks\n",
       "0  Jason Bourne  23.0   M     C        24.265\n",
       "1        Ranjan  34.0   M     B        42.200\n",
       "2           Roy  23.0   M     A        49.585\n",
       "4          Gita  23.0   F     D        24.265\n",
       "5          Sita  34.0   F     C        35.870"
      ]
     },
     "execution_count": 21,
     "metadata": {},
     "output_type": "execute_result"
    }
   ],
   "source": [
    "# t. Delete the “Marks Column”\n",
    "df.drop(\"Marks\", axis = 1, inplace = True)\n",
    "df.head()"
   ]
  }
 ],
 "metadata": {
  "kernelspec": {
   "display_name": "Python 3",
   "language": "python",
   "name": "python3"
  },
  "language_info": {
   "codemirror_mode": {
    "name": "ipython",
    "version": 3
   },
   "file_extension": ".py",
   "mimetype": "text/x-python",
   "name": "python",
   "nbconvert_exporter": "python",
   "pygments_lexer": "ipython3",
   "version": "3.8.8"
  }
 },
 "nbformat": 4,
 "nbformat_minor": 5
}
